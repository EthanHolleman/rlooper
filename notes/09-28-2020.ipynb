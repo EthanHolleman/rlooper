{
 "cells": [
  {
   "cell_type": "markdown",
   "metadata": {},
   "source": [
    "# Notes on window strat\n",
    "\n",
    "## Windower Class\n",
    "\n",
    "- Looks like `Windower` objects control what part of a given sequence energy calculations are made for\n",
    "    - The runtime of energy calcs is not clear right now but guessing it is probably linear-ish for the length of the windowed sequence"
   ]
  },
  {
   "cell_type": "code",
   "execution_count": 13,
   "metadata": {},
   "outputs": [
    {
     "name": "stdout",
     "output_type": "stream",
     "text": [
      "AT\n",
      "ATG\n",
      "ATGC\n",
      "ATGCC\n",
      "ATGCCC\n",
      "ATGCCCC\n",
      "ATGCCCCA\n",
      "ATGCCCCAG\n",
      "ATGCCCCAGG\n",
      "ATGCCCCAGGG\n",
      "ATGCCCCAGGGT\n",
      "TG\n",
      "TGC\n",
      "TGCC\n",
      "TGCCC\n",
      "TGCCCC\n",
      "TGCCCCA\n",
      "TGCCCCAG\n",
      "TGCCCCAGG\n",
      "TGCCCCAGGG\n",
      "TGCCCCAGGGT\n",
      "GC\n",
      "GCC\n",
      "GCCC\n",
      "GCCCC\n",
      "GCCCCA\n",
      "GCCCCAG\n",
      "GCCCCAGG\n",
      "GCCCCAGGG\n",
      "GCCCCAGGGT\n",
      "CC\n",
      "CCC\n",
      "CCCC\n",
      "CCCCA\n",
      "CCCCAG\n",
      "CCCCAGG\n",
      "CCCCAGGG\n",
      "CCCCAGGGT\n",
      "CC\n",
      "CCC\n",
      "CCCA\n",
      "CCCAG\n",
      "CCCAGG\n",
      "CCCAGGG\n",
      "CCCAGGGT\n",
      "CC\n",
      "CCA\n",
      "CCAG\n",
      "CCAGG\n",
      "CCAGGG\n",
      "CCAGGGT\n",
      "CA\n",
      "CAG\n",
      "CAGG\n",
      "CAGGG\n",
      "CAGGGT\n",
      "AG\n",
      "AGG\n",
      "AGGG\n",
      "AGGGT\n",
      "GG\n",
      "GGG\n",
      "GGGT\n",
      "GG\n",
      "GGT\n",
      "Sequence of len 12 produced 65 structures\n"
     ]
    }
   ],
   "source": [
    "seq = 'ATGCCCCAGGGT'\n",
    "start, stop, min_size = 0, 1, 2\n",
    "c = 0\n",
    "\n",
    "while True:\n",
    "    if start == stop - min_size+1 and stop == len(seq) -1:\n",
    "        break\n",
    "    print(seq[start:stop+1])\n",
    "    c += 1\n",
    "    if stop < len(seq) - 1:\n",
    "        stop += 1\n",
    "    else:\n",
    "        start += 1\n",
    "        stop = start + min_size -1\n",
    "\n",
    "print(\"Sequence of len {} produced {} structures\".format(len(seq), c))"
   ]
  },
  {
   "cell_type": "markdown",
   "metadata": {},
   "source": [
    "# Energy Calcs\n",
    "\n",
    "## What is happening to each of the structures produced by the algo above?\n",
    "\n",
    "- Called in `model.compute_structure` and pushed back onto the `rloop_structures` vector\n",
    "    - for each rloop structure we then call `compute_residuals` and pass in the `Model` we are using\n",
    "        - `compute_residuals` computes the residual linking difference and the residual twist and stores both of these in the `structure` instance that was passed in"
   ]
  },
  {
   "cell_type": "markdown",
   "metadata": {},
   "source": [
    "## Residual linking difference\n",
    "\n",
    "$(\\frac{4C(\\pi^{2})}{4C(\\pi^{2}) + (K \\cdot L)})\\alpha + L * A$\n",
    "\n",
    "Where\n",
    "\n",
    "- $C$ = tortional stiffness of ssDNA winding. (Could be 3.6 for ds or 1.8 for ss winding)\n",
    "- $A$ = turns/bp\n",
    "- $L$ = length of the sequence\n",
    "- $\\alpha$ = linking difference: topological parameter\n",
    "- $K$ = Hooke's law coefficient: (2200*ideal_gas_constant in kcal/mol*absolute_temp_in_kelvin)/N"
   ]
  },
  {
   "cell_type": "markdown",
   "metadata": {},
   "source": [
    "Above should actually be a fast calculation though $\\theta(1)$. The big time loss is the number of structures that have to be computed for and the base-pairing energy over the each structure"
   ]
  },
  {
   "cell_type": "markdown",
   "metadata": {},
   "source": [
    "## Base-pairing energy\n",
    "\n",
    "Two things are computed here in a for loop in the `Rloop_equilibrium_model::compute_structure` method\n",
    "\n",
    "1. Free Energy\n",
    "    - Take adjacent bases call `step_forward_bps` which calls `compute_bps_interval` which returns a cached energy value based on the identity of the first and then second base\n",
    "    - $\\theta(1)$\n",
    "2. Boltzmann Factor\n",
    "    - Call `compute_boltzman_factor` and pass in the free energy value we just calculated for the last two adjacent bases and constant $T$\n",
    "    - $\\theta(1)$"
   ]
  },
  {
   "cell_type": "markdown",
   "metadata": {},
   "source": [
    "## Base-pairing energy improvements\n",
    "\n",
    "It might make more sense to calculate free energy and boltzman while we are generating each struct instead of calculating all structures and then for each structure do the energy calc again. We end up repeating a **TON** of calculations it seems like"
   ]
  },
  {
   "cell_type": "markdown",
   "metadata": {},
   "source": [
    "### Example"
   ]
  },
  {
   "cell_type": "code",
   "execution_count": 2,
   "metadata": {},
   "outputs": [],
   "source": [
    "# create class to represent rloop structures (windows)\n",
    "class Struct:\n",
    "    seq = None\n",
    "    def __init__(self, start, stop):\n",
    "        self.start = start\n",
    "        self.stop = stop\n",
    "        self.boltz = 0\n",
    "        self.free_energy = 0\n",
    "        \n",
    "    @property\n",
    "    def sequence(self):\n",
    "        return self.seq[self.start:self.stop]"
   ]
  },
  {
   "cell_type": "code",
   "execution_count": 3,
   "metadata": {},
   "outputs": [],
   "source": [
    "# set class variable seq to the seq we want to use for calcs\n",
    "Struct.seq = 'ATGCCCCAGGGT'"
   ]
  },
  {
   "cell_type": "code",
   "execution_count": 4,
   "metadata": {},
   "outputs": [],
   "source": [
    "T = 0.64  # stand in for T constant\n",
    "calc_free = lambda a, b: ord(a) + ord(b)  # not actual calc just take ascii values for now as stand in\n",
    "calc_boltz = lambda e: e + T"
   ]
  },
  {
   "cell_type": "markdown",
   "metadata": {},
   "source": [
    "### Dynamic programming approach\n",
    "\n",
    "If we are at the same start point and just building the sequence out we (I think) don't need to recalculate all the free energy calcs done on the preceding bases, just the new base (n) along with the n - 1 base."
   ]
  },
  {
   "cell_type": "code",
   "execution_count": 5,
   "metadata": {
    "scrolled": true
   },
   "outputs": [],
   "source": [
    "def EH_structs():\n",
    "    import time\n",
    "    start, stop, min_size = 0, 1, 2\n",
    "\n",
    "    structures = []\n",
    "    cur_boltz, cur_energy = 0, 0\n",
    "    s = time.time()\n",
    "    while True:\n",
    "        if start == stop - min_size+1 and stop == len(Struct.seq) -1:\n",
    "            break\n",
    "        if stop < len(Struct.seq) - 1:\n",
    "            new_struct = Struct(start, stop+1)\n",
    "            cur_energy += calc_free(Struct.seq[new_struct.stop -2], Struct.seq[new_struct.stop-1])\n",
    "            cur_boltz += calc_boltz(cur_energy)\n",
    "            new_struct.boltz = cur_boltz\n",
    "            new_struct.free_energy = cur_energy\n",
    "            structures.append(new_struct)\n",
    "\n",
    "            stop += 1\n",
    "\n",
    "        else:\n",
    "            start += 1\n",
    "            stop = start + min_size - 1\n",
    "\n",
    "            cur_boltz = 0\n",
    "            cur_energy = 0  # reset as we have moved to new start point\n",
    "    total_time = time.time() - s\n",
    "    print(\"Total Time: {} seconds\".format(time.time() - s))\n",
    "    print(\"Free Energy | Boltzman | Seq\")\n",
    "    #for s in structures:\n",
    "    #    print(s.free_energy, round(s.boltz, 2), Struct.seq[s.start:s.stop])\n",
    "    return total_time"
   ]
  },
  {
   "cell_type": "markdown",
   "metadata": {},
   "source": [
    "### Same thing as above but with current method"
   ]
  },
  {
   "cell_type": "code",
   "execution_count": 6,
   "metadata": {},
   "outputs": [],
   "source": [
    "def OG_structs():\n",
    "    import time\n",
    "    start, stop, min_size = 0, 1, 2\n",
    "\n",
    "    structures = []\n",
    "    s = time.time()\n",
    "    while True:\n",
    "        if start == stop - min_size+1 and stop == len(Struct.seq) -1:\n",
    "            break\n",
    "        if stop < len(Struct.seq) - 1:\n",
    "            new_struct = Struct(start, stop+1)\n",
    "\n",
    "            for i in range(len(new_struct.sequence)-1):\n",
    "                a, b = new_struct.seq[i], new_struct.seq[i+1]\n",
    "                new_struct.free_energy += calc_free(a, b)\n",
    "            new_struct.boltz += calc_boltz(new_struct.free_energy)\n",
    "\n",
    "            structures.append(new_struct)\n",
    "\n",
    "            stop += 1\n",
    "\n",
    "        else:\n",
    "            start += 1\n",
    "            stop = start + min_size - 1\n",
    "    total_time = time.time() - s\n",
    "\n",
    "    print(\"Total Time: {} seconds\".format(time.time() - s))\n",
    "    print(\"Free Energy | Boltzman | Seq\")\n",
    "    #for s in structures:\n",
    "    #    print(s.free_energy, round(s.boltz, 2), Struct.seq[s.start:s.stop])\n",
    "    return total_time"
   ]
  },
  {
   "cell_type": "code",
   "execution_count": 11,
   "metadata": {},
   "outputs": [
    {
     "name": "stdout",
     "output_type": "stream",
     "text": [
      "Current length: 24\n",
      "Total Time: 0.0006544589996337891 seconds\n",
      "Free Energy | Boltzman | Seq\n",
      "Total Time: 0.0015773773193359375 seconds\n",
      "Free Energy | Boltzman | Seq\n",
      "Current length: 48\n",
      "Total Time: 0.0027348995208740234 seconds\n",
      "Free Energy | Boltzman | Seq\n",
      "Total Time: 0.012103557586669922 seconds\n",
      "Free Energy | Boltzman | Seq\n",
      "Current length: 96\n",
      "Total Time: 0.007555484771728516 seconds\n",
      "Free Energy | Boltzman | Seq\n",
      "Total Time: 0.046959638595581055 seconds\n",
      "Free Energy | Boltzman | Seq\n",
      "Current length: 192\n",
      "Total Time: 0.016002178192138672 seconds\n",
      "Free Energy | Boltzman | Seq\n",
      "Total Time: 0.2863423824310303 seconds\n",
      "Free Energy | Boltzman | Seq\n",
      "Current length: 384\n",
      "Total Time: 0.10921955108642578 seconds\n",
      "Free Energy | Boltzman | Seq\n",
      "Total Time: 2.176204204559326 seconds\n",
      "Free Energy | Boltzman | Seq\n",
      "Current length: 768\n",
      "Total Time: 0.39378976821899414 seconds\n",
      "Free Energy | Boltzman | Seq\n",
      "Total Time: 17.390355348587036 seconds\n",
      "Free Energy | Boltzman | Seq\n",
      "Current length: 1536\n",
      "Total Time: 1.4360833168029785 seconds\n",
      "Free Energy | Boltzman | Seq\n",
      "Total Time: 142.8125376701355 seconds\n",
      "Free Energy | Boltzman | Seq\n"
     ]
    }
   ],
   "source": [
    "EH_time = []\n",
    "OG_time = []\n",
    "l = []\n",
    "Struct.seq = 'ATGCCCCAGGGT'\n",
    "for i in range(0, 7):\n",
    "    Struct.seq = Struct.seq * 2\n",
    "    l.append(len(Struct.seq))\n",
    "    print('Current length:', l[-1])\n",
    "    EH_time.append(EH_structs())\n",
    "    OG_time.append(OG_structs())"
   ]
  },
  {
   "cell_type": "code",
   "execution_count": 12,
   "metadata": {},
   "outputs": [
    {
     "data": {
      "image/png": "[encoded data removed]",
      "text/plain": [
       "<Figure size 432x288 with 1 Axes>"
      ]
     },
     "metadata": {
      "needs_background": "light"
     },
     "output_type": "display_data"
    }
   ],
   "source": [
    "import matplotlib.pyplot as plt\n",
    "plt.plot(l, EH_time)\n",
    "plt.plot(l, OG_time)\n",
    "plt.show()"
   ]
  }
 ],
 "metadata": {
  "kernelspec": {
   "display_name": "Python 3.8.5 64-bit ('fucking_around': conda)",
   "language": "python",
   "name": "python38564bitfuckingaroundconda8a4235598cb646d081b266c9bf95f8ed"
  },
  "language_info": {
   "codemirror_mode": {
    "name": "ipython",
    "version": 3
   },
   "file_extension": ".py",
   "mimetype": "text/x-python",
   "name": "python",
   "nbconvert_exporter": "python",
   "pygments_lexer": "ipython3",
   "version": "3.8.5"
  }
 },
 "nbformat": 4,
 "nbformat_minor": 4
}
